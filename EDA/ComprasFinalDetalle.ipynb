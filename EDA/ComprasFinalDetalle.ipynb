{
 "cells": [
  {
   "cell_type": "markdown",
   "metadata": {},
   "source": [
    "### EDA CSV PurchasesFINAL12312016"
   ]
  },
  {
   "cell_type": "code",
   "execution_count": 1,
   "metadata": {},
   "outputs": [],
   "source": [
    "# Importar Librerias\n",
    "\n",
    "import pandas as pd\n",
    "import numpy as np\n",
    "import matplotlib.pyplot as plt\n",
    "import seaborn as sns\n",
    "import datetime as dt"
   ]
  },
  {
   "cell_type": "code",
   "execution_count": 2,
   "metadata": {},
   "outputs": [
    {
     "data": {
      "text/html": [
       "<div>\n",
       "<style scoped>\n",
       "    .dataframe tbody tr th:only-of-type {\n",
       "        vertical-align: middle;\n",
       "    }\n",
       "\n",
       "    .dataframe tbody tr th {\n",
       "        vertical-align: top;\n",
       "    }\n",
       "\n",
       "    .dataframe thead th {\n",
       "        text-align: right;\n",
       "    }\n",
       "</style>\n",
       "<table border=\"1\" class=\"dataframe\">\n",
       "  <thead>\n",
       "    <tr style=\"text-align: right;\">\n",
       "      <th></th>\n",
       "      <th>InventoryId</th>\n",
       "      <th>Store</th>\n",
       "      <th>Brand</th>\n",
       "      <th>Description</th>\n",
       "      <th>Size</th>\n",
       "      <th>VendorNumber</th>\n",
       "      <th>VendorName</th>\n",
       "      <th>PONumber</th>\n",
       "      <th>PODate</th>\n",
       "      <th>ReceivingDate</th>\n",
       "      <th>InvoiceDate</th>\n",
       "      <th>PayDate</th>\n",
       "      <th>PurchasePrice</th>\n",
       "      <th>Quantity</th>\n",
       "      <th>Dollars</th>\n",
       "      <th>Classification</th>\n",
       "    </tr>\n",
       "  </thead>\n",
       "  <tbody>\n",
       "    <tr>\n",
       "      <th>0</th>\n",
       "      <td>69_MOUNTMEND_8412</td>\n",
       "      <td>69</td>\n",
       "      <td>8412</td>\n",
       "      <td>Tequila Ocho Plata Fresno</td>\n",
       "      <td>750mL</td>\n",
       "      <td>105</td>\n",
       "      <td>ALTAMAR BRANDS LLC</td>\n",
       "      <td>8124</td>\n",
       "      <td>2015-12-21</td>\n",
       "      <td>2016-01-02</td>\n",
       "      <td>2016-01-04</td>\n",
       "      <td>2016-02-16</td>\n",
       "      <td>35.71</td>\n",
       "      <td>6</td>\n",
       "      <td>214.26</td>\n",
       "      <td>1</td>\n",
       "    </tr>\n",
       "    <tr>\n",
       "      <th>1</th>\n",
       "      <td>30_CULCHETH_5255</td>\n",
       "      <td>30</td>\n",
       "      <td>5255</td>\n",
       "      <td>TGI Fridays Ultimte Mudslide</td>\n",
       "      <td>1.75L</td>\n",
       "      <td>4466</td>\n",
       "      <td>AMERICAN VINTAGE BEVERAGE</td>\n",
       "      <td>8137</td>\n",
       "      <td>2015-12-22</td>\n",
       "      <td>2016-01-01</td>\n",
       "      <td>2016-01-07</td>\n",
       "      <td>2016-02-21</td>\n",
       "      <td>9.35</td>\n",
       "      <td>4</td>\n",
       "      <td>37.40</td>\n",
       "      <td>1</td>\n",
       "    </tr>\n",
       "    <tr>\n",
       "      <th>2</th>\n",
       "      <td>34_PITMERDEN_5215</td>\n",
       "      <td>34</td>\n",
       "      <td>5215</td>\n",
       "      <td>TGI Fridays Long Island Iced</td>\n",
       "      <td>1.75L</td>\n",
       "      <td>4466</td>\n",
       "      <td>AMERICAN VINTAGE BEVERAGE</td>\n",
       "      <td>8137</td>\n",
       "      <td>2015-12-22</td>\n",
       "      <td>2016-01-02</td>\n",
       "      <td>2016-01-07</td>\n",
       "      <td>2016-02-21</td>\n",
       "      <td>9.41</td>\n",
       "      <td>5</td>\n",
       "      <td>47.05</td>\n",
       "      <td>1</td>\n",
       "    </tr>\n",
       "    <tr>\n",
       "      <th>3</th>\n",
       "      <td>1_HARDERSFIELD_5255</td>\n",
       "      <td>1</td>\n",
       "      <td>5255</td>\n",
       "      <td>TGI Fridays Ultimte Mudslide</td>\n",
       "      <td>1.75L</td>\n",
       "      <td>4466</td>\n",
       "      <td>AMERICAN VINTAGE BEVERAGE</td>\n",
       "      <td>8137</td>\n",
       "      <td>2015-12-22</td>\n",
       "      <td>2016-01-01</td>\n",
       "      <td>2016-01-07</td>\n",
       "      <td>2016-02-21</td>\n",
       "      <td>9.35</td>\n",
       "      <td>6</td>\n",
       "      <td>56.10</td>\n",
       "      <td>1</td>\n",
       "    </tr>\n",
       "    <tr>\n",
       "      <th>4</th>\n",
       "      <td>76_DONCASTER_2034</td>\n",
       "      <td>76</td>\n",
       "      <td>2034</td>\n",
       "      <td>Glendalough Double Barrel</td>\n",
       "      <td>750mL</td>\n",
       "      <td>388</td>\n",
       "      <td>ATLANTIC IMPORTING COMPANY</td>\n",
       "      <td>8169</td>\n",
       "      <td>2015-12-24</td>\n",
       "      <td>2016-01-02</td>\n",
       "      <td>2016-01-09</td>\n",
       "      <td>2016-02-16</td>\n",
       "      <td>21.32</td>\n",
       "      <td>5</td>\n",
       "      <td>106.60</td>\n",
       "      <td>1</td>\n",
       "    </tr>\n",
       "  </tbody>\n",
       "</table>\n",
       "</div>"
      ],
      "text/plain": [
       "           InventoryId  Store  Brand                   Description   Size  \\\n",
       "0    69_MOUNTMEND_8412     69   8412     Tequila Ocho Plata Fresno  750mL   \n",
       "1     30_CULCHETH_5255     30   5255  TGI Fridays Ultimte Mudslide  1.75L   \n",
       "2    34_PITMERDEN_5215     34   5215  TGI Fridays Long Island Iced  1.75L   \n",
       "3  1_HARDERSFIELD_5255      1   5255  TGI Fridays Ultimte Mudslide  1.75L   \n",
       "4    76_DONCASTER_2034     76   2034     Glendalough Double Barrel  750mL   \n",
       "\n",
       "   VendorNumber                   VendorName  PONumber      PODate  \\\n",
       "0           105  ALTAMAR BRANDS LLC               8124  2015-12-21   \n",
       "1          4466  AMERICAN VINTAGE BEVERAGE        8137  2015-12-22   \n",
       "2          4466  AMERICAN VINTAGE BEVERAGE        8137  2015-12-22   \n",
       "3          4466  AMERICAN VINTAGE BEVERAGE        8137  2015-12-22   \n",
       "4           388  ATLANTIC IMPORTING COMPANY       8169  2015-12-24   \n",
       "\n",
       "  ReceivingDate InvoiceDate     PayDate  PurchasePrice  Quantity  Dollars  \\\n",
       "0    2016-01-02  2016-01-04  2016-02-16          35.71         6   214.26   \n",
       "1    2016-01-01  2016-01-07  2016-02-21           9.35         4    37.40   \n",
       "2    2016-01-02  2016-01-07  2016-02-21           9.41         5    47.05   \n",
       "3    2016-01-01  2016-01-07  2016-02-21           9.35         6    56.10   \n",
       "4    2016-01-02  2016-01-09  2016-02-16          21.32         5   106.60   \n",
       "\n",
       "   Classification  \n",
       "0               1  \n",
       "1               1  \n",
       "2               1  \n",
       "3               1  \n",
       "4               1  "
      ]
     },
     "execution_count": 2,
     "metadata": {},
     "output_type": "execute_result"
    }
   ],
   "source": [
    "#Cargar el dataset\n",
    "df_PurchasesFinal = pd.read_csv(\"Dataset/PurchasesFINAL12312016.csv\")\n",
    "df_PurchasesFinal.head()"
   ]
  },
  {
   "cell_type": "code",
   "execution_count": 3,
   "metadata": {},
   "outputs": [
    {
     "name": "stdout",
     "output_type": "stream",
     "text": [
      "<class 'pandas.core.frame.DataFrame'>\n",
      "RangeIndex: 2372474 entries, 0 to 2372473\n",
      "Data columns (total 16 columns):\n",
      " #   Column          Dtype  \n",
      "---  ------          -----  \n",
      " 0   InventoryId     object \n",
      " 1   Store           int64  \n",
      " 2   Brand           int64  \n",
      " 3   Description     object \n",
      " 4   Size            object \n",
      " 5   VendorNumber    int64  \n",
      " 6   VendorName      object \n",
      " 7   PONumber        int64  \n",
      " 8   PODate          object \n",
      " 9   ReceivingDate   object \n",
      " 10  InvoiceDate     object \n",
      " 11  PayDate         object \n",
      " 12  PurchasePrice   float64\n",
      " 13  Quantity        int64  \n",
      " 14  Dollars         float64\n",
      " 15  Classification  int64  \n",
      "dtypes: float64(2), int64(6), object(8)\n",
      "memory usage: 289.6+ MB\n"
     ]
    }
   ],
   "source": [
    "# Obtener información general del dataset\n",
    "df_PurchasesFinal.info()"
   ]
  },
  {
   "cell_type": "code",
   "execution_count": 4,
   "metadata": {},
   "outputs": [
    {
     "data": {
      "text/html": [
       "<div>\n",
       "<style scoped>\n",
       "    .dataframe tbody tr th:only-of-type {\n",
       "        vertical-align: middle;\n",
       "    }\n",
       "\n",
       "    .dataframe tbody tr th {\n",
       "        vertical-align: top;\n",
       "    }\n",
       "\n",
       "    .dataframe thead th {\n",
       "        text-align: right;\n",
       "    }\n",
       "</style>\n",
       "<table border=\"1\" class=\"dataframe\">\n",
       "  <thead>\n",
       "    <tr style=\"text-align: right;\">\n",
       "      <th></th>\n",
       "      <th>Store</th>\n",
       "      <th>Brand</th>\n",
       "      <th>VendorNumber</th>\n",
       "      <th>PONumber</th>\n",
       "      <th>PurchasePrice</th>\n",
       "      <th>Quantity</th>\n",
       "      <th>Dollars</th>\n",
       "      <th>Classification</th>\n",
       "    </tr>\n",
       "  </thead>\n",
       "  <tbody>\n",
       "    <tr>\n",
       "      <th>count</th>\n",
       "      <td>2.372474e+06</td>\n",
       "      <td>2.372474e+06</td>\n",
       "      <td>2.372474e+06</td>\n",
       "      <td>2.372474e+06</td>\n",
       "      <td>2.372474e+06</td>\n",
       "      <td>2.372474e+06</td>\n",
       "      <td>2.372474e+06</td>\n",
       "      <td>2.372474e+06</td>\n",
       "    </tr>\n",
       "    <tr>\n",
       "      <th>mean</th>\n",
       "      <td>4.465133e+01</td>\n",
       "      <td>1.241864e+04</td>\n",
       "      <td>6.886436e+03</td>\n",
       "      <td>1.104094e+04</td>\n",
       "      <td>1.205005e+01</td>\n",
       "      <td>1.415585e+01</td>\n",
       "      <td>1.356815e+02</td>\n",
       "      <td>1.443520e+00</td>\n",
       "    </tr>\n",
       "    <tr>\n",
       "      <th>std</th>\n",
       "      <td>2.351245e+01</td>\n",
       "      <td>1.255728e+04</td>\n",
       "      <td>8.066694e+03</td>\n",
       "      <td>1.565340e+03</td>\n",
       "      <td>1.794510e+01</td>\n",
       "      <td>2.344616e+01</td>\n",
       "      <td>2.816649e+02</td>\n",
       "      <td>4.967999e-01</td>\n",
       "    </tr>\n",
       "    <tr>\n",
       "      <th>min</th>\n",
       "      <td>1.000000e+00</td>\n",
       "      <td>5.800000e+01</td>\n",
       "      <td>2.000000e+00</td>\n",
       "      <td>8.106000e+03</td>\n",
       "      <td>0.000000e+00</td>\n",
       "      <td>1.000000e+00</td>\n",
       "      <td>0.000000e+00</td>\n",
       "      <td>1.000000e+00</td>\n",
       "    </tr>\n",
       "    <tr>\n",
       "      <th>25%</th>\n",
       "      <td>2.500000e+01</td>\n",
       "      <td>3.639000e+03</td>\n",
       "      <td>3.252000e+03</td>\n",
       "      <td>9.761000e+03</td>\n",
       "      <td>6.120000e+00</td>\n",
       "      <td>6.000000e+00</td>\n",
       "      <td>4.926000e+01</td>\n",
       "      <td>1.000000e+00</td>\n",
       "    </tr>\n",
       "    <tr>\n",
       "      <th>50%</th>\n",
       "      <td>4.800000e+01</td>\n",
       "      <td>6.523000e+03</td>\n",
       "      <td>4.425000e+03</td>\n",
       "      <td>1.110300e+04</td>\n",
       "      <td>9.220000e+00</td>\n",
       "      <td>1.000000e+01</td>\n",
       "      <td>8.393000e+01</td>\n",
       "      <td>1.000000e+00</td>\n",
       "    </tr>\n",
       "    <tr>\n",
       "      <th>75%</th>\n",
       "      <td>6.700000e+01</td>\n",
       "      <td>1.887700e+04</td>\n",
       "      <td>9.552000e+03</td>\n",
       "      <td>1.239700e+04</td>\n",
       "      <td>1.449000e+01</td>\n",
       "      <td>1.200000e+01</td>\n",
       "      <td>1.405200e+02</td>\n",
       "      <td>2.000000e+00</td>\n",
       "    </tr>\n",
       "    <tr>\n",
       "      <th>max</th>\n",
       "      <td>8.100000e+01</td>\n",
       "      <td>9.063100e+04</td>\n",
       "      <td>2.013590e+05</td>\n",
       "      <td>1.366100e+04</td>\n",
       "      <td>5.681810e+03</td>\n",
       "      <td>3.816000e+03</td>\n",
       "      <td>5.017570e+04</td>\n",
       "      <td>2.000000e+00</td>\n",
       "    </tr>\n",
       "  </tbody>\n",
       "</table>\n",
       "</div>"
      ],
      "text/plain": [
       "              Store         Brand  VendorNumber      PONumber  PurchasePrice  \\\n",
       "count  2.372474e+06  2.372474e+06  2.372474e+06  2.372474e+06   2.372474e+06   \n",
       "mean   4.465133e+01  1.241864e+04  6.886436e+03  1.104094e+04   1.205005e+01   \n",
       "std    2.351245e+01  1.255728e+04  8.066694e+03  1.565340e+03   1.794510e+01   \n",
       "min    1.000000e+00  5.800000e+01  2.000000e+00  8.106000e+03   0.000000e+00   \n",
       "25%    2.500000e+01  3.639000e+03  3.252000e+03  9.761000e+03   6.120000e+00   \n",
       "50%    4.800000e+01  6.523000e+03  4.425000e+03  1.110300e+04   9.220000e+00   \n",
       "75%    6.700000e+01  1.887700e+04  9.552000e+03  1.239700e+04   1.449000e+01   \n",
       "max    8.100000e+01  9.063100e+04  2.013590e+05  1.366100e+04   5.681810e+03   \n",
       "\n",
       "           Quantity       Dollars  Classification  \n",
       "count  2.372474e+06  2.372474e+06    2.372474e+06  \n",
       "mean   1.415585e+01  1.356815e+02    1.443520e+00  \n",
       "std    2.344616e+01  2.816649e+02    4.967999e-01  \n",
       "min    1.000000e+00  0.000000e+00    1.000000e+00  \n",
       "25%    6.000000e+00  4.926000e+01    1.000000e+00  \n",
       "50%    1.000000e+01  8.393000e+01    1.000000e+00  \n",
       "75%    1.200000e+01  1.405200e+02    2.000000e+00  \n",
       "max    3.816000e+03  5.017570e+04    2.000000e+00  "
      ]
     },
     "execution_count": 4,
     "metadata": {},
     "output_type": "execute_result"
    }
   ],
   "source": [
    "# Descripción estadística básica\n",
    "df_PurchasesFinal.describe()"
   ]
  },
  {
   "cell_type": "code",
   "execution_count": 5,
   "metadata": {},
   "outputs": [
    {
     "data": {
      "text/plain": [
       "InventoryId       0\n",
       "Store             0\n",
       "Brand             0\n",
       "Description       0\n",
       "Size              3\n",
       "VendorNumber      0\n",
       "VendorName        0\n",
       "PONumber          0\n",
       "PODate            0\n",
       "ReceivingDate     0\n",
       "InvoiceDate       0\n",
       "PayDate           0\n",
       "PurchasePrice     0\n",
       "Quantity          0\n",
       "Dollars           0\n",
       "Classification    0\n",
       "dtype: int64"
      ]
     },
     "execution_count": 5,
     "metadata": {},
     "output_type": "execute_result"
    }
   ],
   "source": [
    "# Verificación de valores nulos\n",
    "df_PurchasesFinal.isnull().sum()"
   ]
  },
  {
   "cell_type": "code",
   "execution_count": 6,
   "metadata": {},
   "outputs": [
    {
     "name": "stdout",
     "output_type": "stream",
     "text": [
      "                 InventoryId  Store  Brand                 Description Size  \\\n",
      "1109668    34_PITMERDEN_3121     34   3121    Pinnacle Rainbow Sherbet  NaN   \n",
      "1112426    34_PITMERDEN_5678     34   5678      Skinnygirl Pina Colada  NaN   \n",
      "1116302  39_EASTHALLOW_15365     39  15365  Alabaster 07 Tinta de Toro  NaN   \n",
      "\n",
      "         VendorNumber                   VendorName  PONumber      PODate  \\\n",
      "1109668         12546  JIM BEAM BRANDS COMPANY         10938  2016-06-27   \n",
      "1112426         12546  JIM BEAM BRANDS COMPANY         10938  2016-06-27   \n",
      "1116302          9552  M S WALKER INC                  10972  2016-06-29   \n",
      "\n",
      "        ReceivingDate InvoiceDate     PayDate  PurchasePrice  Quantity  \\\n",
      "1109668    2016-07-04  2016-07-13  2016-08-16           6.93         7   \n",
      "1112426    2016-07-09  2016-07-13  2016-08-16           6.93         6   \n",
      "1116302    2016-07-07  2016-07-13  2016-08-21          91.83         1   \n",
      "\n",
      "         Dollars  Classification  \n",
      "1109668    48.51               1  \n",
      "1112426    41.58               1  \n",
      "1116302    91.83               2  \n"
     ]
    }
   ],
   "source": [
    "# Filtrar la fila donde la columna 'Description' es nula\n",
    "null_description_row = df_PurchasesFinal[df_PurchasesFinal['Size'].isnull()]\n",
    "\n",
    "# Mostrar la fila con 'Description' nulo\n",
    "print(null_description_row)\n"
   ]
  },
  {
   "cell_type": "code",
   "execution_count": 7,
   "metadata": {},
   "outputs": [
    {
     "data": {
      "image/png": "[encoded data removed]",
      "text/plain": [
       "<Figure size 1000x600 with 1 Axes>"
      ]
     },
     "metadata": {},
     "output_type": "display_data"
    }
   ],
   "source": [
    "# Visualizar la distribución de la columna 'Size'\n",
    "\n",
    "plt.figure(figsize=(10,6))\n",
    "sns.histplot(df_PurchasesFinal['Size'].dropna(), kde=True)\n",
    "plt.title('Distribución de la columna Size')\n",
    "\n",
    "plt.show()"
   ]
  },
  {
   "cell_type": "code",
   "execution_count": 8,
   "metadata": {},
   "outputs": [
    {
     "name": "stdout",
     "output_type": "stream",
     "text": [
      "0\n"
     ]
    },
    {
     "name": "stderr",
     "output_type": "stream",
     "text": [
      "C:\\Users\\danip\\AppData\\Local\\Temp\\ipykernel_22664\\1738029132.py:5: FutureWarning: A value is trying to be set on a copy of a DataFrame or Series through chained assignment using an inplace method.\n",
      "The behavior will change in pandas 3.0. This inplace method will never work because the intermediate object on which we are setting values always behaves as a copy.\n",
      "\n",
      "For example, when doing 'df[col].method(value, inplace=True)', try using 'df.method({col: value}, inplace=True)' or df[col] = df[col].method(value) instead, to perform the operation inplace on the original object.\n",
      "\n",
      "\n",
      "  df_PurchasesFinal['Size'].fillna(moda_size, inplace=True)\n"
     ]
    }
   ],
   "source": [
    "# Calcular la moda (valor más frecuente) de la columna 'Size'\n",
    "moda_size = df_PurchasesFinal['Size'].mode()[0]  # mode()[0] obtiene el valor más frecuente\n",
    "\n",
    "# Rellenar los valores NaN con la moda\n",
    "df_PurchasesFinal['Size'].fillna(moda_size, inplace=True)\n",
    "\n",
    "# Verificar si quedan NaN\n",
    "print(df_PurchasesFinal['Size'].isnull().sum())  # Debería ser 0 si todos los NaN fueron llenados"
   ]
  },
  {
   "cell_type": "code",
   "execution_count": 9,
   "metadata": {},
   "outputs": [
    {
     "name": "stdout",
     "output_type": "stream",
     "text": [
      "Número de filas duplicadas: 0\n"
     ]
    }
   ],
   "source": [
    "# Verificar si hay filas duplicadas\n",
    "duplicated_rows = df_PurchasesFinal.duplicated()\n",
    "\n",
    "# Contar el número de filas duplicadas\n",
    "num_duplicated_rows = duplicated_rows.sum()\n",
    "\n",
    "# Mostrar el número de filas duplicadas\n",
    "print(f'Número de filas duplicadas: {num_duplicated_rows}')\n",
    "\n",
    "# Opcional: Mostrar las filas duplicadas\n",
    "if num_duplicated_rows > 0:\n",
    "    print(df_PurchasesFinal[duplicated_rows])"
   ]
  },
  {
   "cell_type": "code",
   "execution_count": 10,
   "metadata": {},
   "outputs": [
    {
     "name": "stdout",
     "output_type": "stream",
     "text": [
      "Brands con múltiples proveedores:\n",
      "       Brand   VendorNumber\n",
      "324      809   [1128, 8004]\n",
      "924     2158   [3089, 6830]\n",
      "974     2232   [4425, 9165]\n",
      "1221    2717   [4425, 7153]\n",
      "1335    2879   [4425, 9165]\n",
      "2388    5075   [1128, 8004]\n",
      "2444    5197   [1128, 8004]\n",
      "2472    5270   [1128, 8004]\n",
      "2473    5273   [1128, 8004]\n",
      "2481    5296   [1128, 8004]\n",
      "2482    5297   [1128, 8004]\n",
      "2483    5298   [1128, 8004]\n",
      "2484    5299   [1128, 8004]\n",
      "2492    5322   [4692, 8004]\n",
      "2542    5434   [1128, 8004]\n",
      "2925    6692  [9744, 10754]\n",
      "2986    6942   [1128, 8004]\n",
      "3682   11089  [9744, 10754]\n",
      "3712   11259  [9744, 10754]\n",
      "5045   17754  [4425, 10754]\n",
      "5332   18771   [4425, 9165]\n",
      "6433   21860   [7153, 9552]\n",
      "6442   21959   [7153, 9552]\n",
      "6443   21960   [7153, 9552]\n",
      "8672   26889  [9744, 10754]\n",
      "9191   31384   [4425, 9552]\n",
      "10165  42735  [4425, 10754]\n",
      "10178  42801   [4425, 9552]\n",
      "10662  90609    [2, 201359]\n"
     ]
    }
   ],
   "source": [
    "# Agrupar por Brand y listar los proveedores únicos para cada Brand\n",
    "brand_vendor_groups = df_PurchasesFinal.groupby('Brand')['VendorNumber'].unique().reset_index()\n",
    "\n",
    "# Filtrar Brands que tienen más de un proveedor asociado\n",
    "brands_with_multiple_vendors = brand_vendor_groups[brand_vendor_groups['VendorNumber'].apply(len) > 1]\n",
    "\n",
    "# Mostrar los resultados\n",
    "print(\"Brands con múltiples proveedores:\")\n",
    "print(brands_with_multiple_vendors)\n"
   ]
  },
  {
   "cell_type": "code",
   "execution_count": 11,
   "metadata": {},
   "outputs": [
    {
     "name": "stdout",
     "output_type": "stream",
     "text": [
      "Detalle de Brands con múltiples proveedores:\n",
      "                InventoryId  Store  Brand               Description   Size  \\\n",
      "464         54_GUTHRAM_5075     54   5075     Tuaca Italian Liqueur  750mL   \n",
      "469        15_WANBORNE_5299     15   5299          Southern Comfort  1.75L   \n",
      "478       50_MOUNTMEND_5299     50   5299          Southern Comfort  1.75L   \n",
      "499       50_MOUNTMEND_5297     50   5297          Southern Comfort  750mL   \n",
      "500        30_CULCHETH_5299     30   5299          Southern Comfort  1.75L   \n",
      "...                     ...    ...    ...                       ...    ...   \n",
      "2368019     21_BALERNO_2879     21   2879  Corner Creek Rsv Bourbon  750mL   \n",
      "2368234   38_GOULCREST_2232     38   2232              Sipsmith Gin  750mL   \n",
      "2368482   69_MOUNTMEND_2232     69   2232              Sipsmith Gin  750mL   \n",
      "2368565  66_EANVERNESS_2232     66   2232              Sipsmith Gin  750mL   \n",
      "2368767  19_WINTERVALE_2879     19   2879  Corner Creek Rsv Bourbon  750mL   \n",
      "\n",
      "         VendorNumber                   VendorName  PONumber      PODate  \\\n",
      "464              1128  BROWN-FORMAN CORP                8150  2015-12-23   \n",
      "469              1128  BROWN-FORMAN CORP                8150  2015-12-23   \n",
      "478              1128  BROWN-FORMAN CORP                8150  2015-12-23   \n",
      "499              1128  BROWN-FORMAN CORP                8150  2015-12-23   \n",
      "500              1128  BROWN-FORMAN CORP                8150  2015-12-23   \n",
      "...               ...                          ...       ...         ...   \n",
      "2368019          9165  ULTRA BEVERAGE COMPANY LLP      13604  2016-12-20   \n",
      "2368234          9165  ULTRA BEVERAGE COMPANY LLP      13604  2016-12-20   \n",
      "2368482          9165  ULTRA BEVERAGE COMPANY LLP      13604  2016-12-20   \n",
      "2368565          9165  ULTRA BEVERAGE COMPANY LLP      13604  2016-12-20   \n",
      "2368767          9165  ULTRA BEVERAGE COMPANY LLP      13604  2016-12-20   \n",
      "\n",
      "        ReceivingDate InvoiceDate     PayDate  PurchasePrice  Quantity  \\\n",
      "464        2016-01-02  2016-01-09  2016-02-19          15.03        12   \n",
      "469        2016-01-01  2016-01-09  2016-02-19          15.26        10   \n",
      "478        2016-01-02  2016-01-09  2016-02-19          15.26         2   \n",
      "499        2016-01-02  2016-01-09  2016-02-19          10.76        11   \n",
      "500        2016-01-01  2016-01-09  2016-02-19          15.26         6   \n",
      "...               ...         ...         ...            ...       ...   \n",
      "2368019    2016-12-27  2017-01-03  2017-02-02          22.21        12   \n",
      "2368234    2016-12-27  2017-01-03  2017-02-02          31.00         6   \n",
      "2368482    2016-12-28  2017-01-03  2017-02-02          31.00         6   \n",
      "2368565    2016-12-28  2017-01-03  2017-02-02          31.00         6   \n",
      "2368767    2016-12-29  2017-01-03  2017-02-02          22.21        12   \n",
      "\n",
      "         Dollars  Classification  \n",
      "464       180.36               1  \n",
      "469       152.60               1  \n",
      "478        30.52               1  \n",
      "499       118.36               1  \n",
      "500        91.56               1  \n",
      "...          ...             ...  \n",
      "2368019   266.52               1  \n",
      "2368234   186.00               1  \n",
      "2368482   186.00               1  \n",
      "2368565   186.00               1  \n",
      "2368767   266.52               1  \n",
      "\n",
      "[9426 rows x 16 columns]\n"
     ]
    }
   ],
   "source": [
    "# Si deseas ver el detalle de los proveedores para estos Brands\n",
    "brands_with_multiple_vendors_detail = df_PurchasesFinal[df_PurchasesFinal['Brand'].isin(brands_with_multiple_vendors['Brand'])]\n",
    "print(\"Detalle de Brands con múltiples proveedores:\")\n",
    "print(brands_with_multiple_vendors_detail)"
   ]
  },
  {
   "cell_type": "code",
   "execution_count": 12,
   "metadata": {},
   "outputs": [
    {
     "name": "stdout",
     "output_type": "stream",
     "text": [
      "InventoryId        object\n",
      "Store               int64\n",
      "Brand               int64\n",
      "Description        object\n",
      "Size               object\n",
      "VendorNumber        int64\n",
      "VendorName         object\n",
      "PONumber            int64\n",
      "PODate             object\n",
      "ReceivingDate      object\n",
      "InvoiceDate        object\n",
      "PayDate            object\n",
      "PurchasePrice     float64\n",
      "Quantity            int64\n",
      "Dollars           float64\n",
      "Classification      int64\n",
      "dtype: object\n"
     ]
    }
   ],
   "source": [
    "#Se verifica el tipo de dato de cada columna\n",
    "print(df_PurchasesFinal.dtypes)"
   ]
  },
  {
   "cell_type": "code",
   "execution_count": 13,
   "metadata": {},
   "outputs": [
    {
     "name": "stdout",
     "output_type": "stream",
     "text": [
      "InventoryId        object\n",
      "Store               int64\n",
      "Brand               int64\n",
      "Description        object\n",
      "Size               object\n",
      "VendorNumber        int64\n",
      "VendorName         object\n",
      "PONumber            int64\n",
      "PODate             object\n",
      "ReceivingDate      object\n",
      "InvoiceDate        object\n",
      "PayDate            object\n",
      "PurchasePrice     float64\n",
      "Quantity            int64\n",
      "Dollars           float64\n",
      "Classification      int64\n",
      "dtype: object\n"
     ]
    }
   ],
   "source": [
    "# Convertir el formato de las columnas PODate, ReceivingDate, InvoiceDate, PayDATE a datetime utilizando .loc\n",
    "\n",
    "# Lista de las columnas a convertir\n",
    "date_columns = ['PODate', 'ReceivingDate', 'InvoiceDate', 'PayDate']\n",
    "\n",
    "# Convertir las columnas a formato datetime usando .loc\n",
    "for col in date_columns:\n",
    "    df_PurchasesFinal.loc[:, col] = pd.to_datetime(df_PurchasesFinal.loc[:, col], errors='coerce')\n",
    "\n",
    "# Ver el resultado\n",
    "print(df_PurchasesFinal.dtypes)  # Para verificar que las columnas han sido convertidas correctamente"
   ]
  },
  {
   "cell_type": "code",
   "execution_count": 14,
   "metadata": {},
   "outputs": [
    {
     "name": "stdout",
     "output_type": "stream",
     "text": [
      "No hay valores negativos en el DataFrame.\n"
     ]
    }
   ],
   "source": [
    "# Verificar si hay valores negativos en las columnas numéricas\n",
    "negatives = df_PurchasesFinal.select_dtypes(include=['number']) < 0\n",
    "\n",
    "# Obtener los nombres de las columnas que tienen valores negativos\n",
    "negative_columns = negatives.any()\n",
    "\n",
    "# Filtrar las columnas que tienen al menos un valor negativo\n",
    "columns_with_negatives = negative_columns[negative_columns].index.tolist()\n",
    "\n",
    "# Mostrar los resultados\n",
    "if columns_with_negatives:\n",
    "    print(f\"Columnas con valores negativos: {columns_with_negatives}\")\n",
    "    for column in columns_with_negatives:\n",
    "        print(f\"\\nValores negativos en la columna '{column}':\")\n",
    "        print(df_PurchasesFinal[df_PurchasesFinal[column] < 0])\n",
    "else:\n",
    "    print(\"No hay valores negativos en el DataFrame.\")"
   ]
  },
  {
   "cell_type": "code",
   "execution_count": 15,
   "metadata": {},
   "outputs": [
    {
     "name": "stdout",
     "output_type": "stream",
     "text": [
      "InventoryId\n",
      "count               2372474\n",
      "unique               245907\n",
      "top       73_DONCASTER_8068\n",
      "freq                    180\n",
      "Name: InventoryId, dtype: object\n",
      "--------------------------------------\n",
      "Store\n",
      "count    2.372474e+06\n",
      "mean     4.465133e+01\n",
      "std      2.351245e+01\n",
      "min      1.000000e+00\n",
      "25%      2.500000e+01\n",
      "50%      4.800000e+01\n",
      "75%      6.700000e+01\n",
      "max      8.100000e+01\n",
      "Name: Store, dtype: float64\n",
      "--------------------------------------\n",
      "Brand\n",
      "count    2.372474e+06\n",
      "mean     1.241864e+04\n",
      "std      1.255728e+04\n",
      "min      5.800000e+01\n",
      "25%      3.639000e+03\n",
      "50%      6.523000e+03\n",
      "75%      1.887700e+04\n",
      "max      9.063100e+04\n",
      "Name: Brand, dtype: float64\n",
      "--------------------------------------\n",
      "Description\n",
      "count                   2372474\n",
      "unique                     9652\n",
      "top       Tito's Handmade Vodka\n",
      "freq                      16442\n",
      "Name: Description, dtype: object\n",
      "--------------------------------------\n",
      "Size\n",
      "count     2372474\n",
      "unique         51\n",
      "top         750mL\n",
      "freq      1207703\n",
      "Name: Size, dtype: object\n",
      "--------------------------------------\n",
      "VendorNumber\n",
      "count    2.372474e+06\n",
      "mean     6.886436e+03\n",
      "std      8.066694e+03\n",
      "min      2.000000e+00\n",
      "25%      3.252000e+03\n",
      "50%      4.425000e+03\n",
      "75%      9.552000e+03\n",
      "max      2.013590e+05\n",
      "Name: VendorNumber, dtype: float64\n",
      "--------------------------------------\n",
      "VendorName\n",
      "count                         2372474\n",
      "unique                            129\n",
      "top       DIAGEO NORTH AMERICA INC   \n",
      "freq                           243326\n",
      "Name: VendorName, dtype: object\n",
      "--------------------------------------\n",
      "PONumber\n",
      "count    2.372474e+06\n",
      "mean     1.104094e+04\n",
      "std      1.565340e+03\n",
      "min      8.106000e+03\n",
      "25%      9.761000e+03\n",
      "50%      1.110300e+04\n",
      "75%      1.239700e+04\n",
      "max      1.366100e+04\n",
      "Name: PONumber, dtype: float64\n",
      "--------------------------------------\n",
      "PODate\n"
     ]
    },
    {
     "name": "stderr",
     "output_type": "stream",
     "text": [
      "C:\\Users\\danip\\AppData\\Local\\Temp\\ipykernel_22664\\1687177808.py:5: FutureWarning: The behavior of value_counts with object-dtype is deprecated. In a future version, this will *not* perform dtype inference on the resulting index. To retain the old behavior, use `result.index = result.index.infer_objects()`\n",
      "  print(df_PurchasesFinal[i].describe()) #descripcion basica\n"
     ]
    },
    {
     "name": "stdout",
     "output_type": "stream",
     "text": [
      "count                 2372474\n",
      "unique                    319\n",
      "top       2016-06-27 00:00:00\n",
      "freq                    24752\n",
      "Name: PODate, dtype: object\n",
      "--------------------------------------\n",
      "ReceivingDate\n",
      "count                 2372474\n",
      "unique                    364\n",
      "top       2016-07-05 00:00:00\n",
      "freq                    19640\n",
      "Name: ReceivingDate, dtype: object\n",
      "--------------------------------------\n",
      "InvoiceDate\n"
     ]
    },
    {
     "name": "stderr",
     "output_type": "stream",
     "text": [
      "C:\\Users\\danip\\AppData\\Local\\Temp\\ipykernel_22664\\1687177808.py:5: FutureWarning: The behavior of value_counts with object-dtype is deprecated. In a future version, this will *not* perform dtype inference on the resulting index. To retain the old behavior, use `result.index = result.index.infer_objects()`\n",
      "  print(df_PurchasesFinal[i].describe()) #descripcion basica\n",
      "C:\\Users\\danip\\AppData\\Local\\Temp\\ipykernel_22664\\1687177808.py:5: FutureWarning: The behavior of value_counts with object-dtype is deprecated. In a future version, this will *not* perform dtype inference on the resulting index. To retain the old behavior, use `result.index = result.index.infer_objects()`\n",
      "  print(df_PurchasesFinal[i].describe()) #descripcion basica\n"
     ]
    },
    {
     "name": "stdout",
     "output_type": "stream",
     "text": [
      "count                 2372474\n",
      "unique                    373\n",
      "top       2016-08-16 00:00:00\n",
      "freq                    29989\n",
      "Name: InvoiceDate, dtype: object\n",
      "--------------------------------------\n",
      "PayDate\n",
      "count                 2372474\n",
      "unique                    382\n",
      "top       2016-09-10 00:00:00\n",
      "freq                    19713\n",
      "Name: PayDate, dtype: object\n",
      "--------------------------------------\n",
      "PurchasePrice\n"
     ]
    },
    {
     "name": "stderr",
     "output_type": "stream",
     "text": [
      "C:\\Users\\danip\\AppData\\Local\\Temp\\ipykernel_22664\\1687177808.py:5: FutureWarning: The behavior of value_counts with object-dtype is deprecated. In a future version, this will *not* perform dtype inference on the resulting index. To retain the old behavior, use `result.index = result.index.infer_objects()`\n",
      "  print(df_PurchasesFinal[i].describe()) #descripcion basica\n"
     ]
    },
    {
     "name": "stdout",
     "output_type": "stream",
     "text": [
      "count    2.372474e+06\n",
      "mean     1.205005e+01\n",
      "std      1.794510e+01\n",
      "min      0.000000e+00\n",
      "25%      6.120000e+00\n",
      "50%      9.220000e+00\n",
      "75%      1.449000e+01\n",
      "max      5.681810e+03\n",
      "Name: PurchasePrice, dtype: float64\n",
      "--------------------------------------\n",
      "Quantity\n",
      "count    2.372474e+06\n",
      "mean     1.415585e+01\n",
      "std      2.344616e+01\n",
      "min      1.000000e+00\n",
      "25%      6.000000e+00\n",
      "50%      1.000000e+01\n",
      "75%      1.200000e+01\n",
      "max      3.816000e+03\n",
      "Name: Quantity, dtype: float64\n",
      "--------------------------------------\n",
      "Dollars\n",
      "count    2.372474e+06\n",
      "mean     1.356815e+02\n",
      "std      2.816649e+02\n",
      "min      0.000000e+00\n",
      "25%      4.926000e+01\n",
      "50%      8.393000e+01\n",
      "75%      1.405200e+02\n",
      "max      5.017570e+04\n",
      "Name: Dollars, dtype: float64\n",
      "--------------------------------------\n",
      "Classification\n",
      "count    2.372474e+06\n",
      "mean     1.443520e+00\n",
      "std      4.967999e-01\n",
      "min      1.000000e+00\n",
      "25%      1.000000e+00\n",
      "50%      1.000000e+00\n",
      "75%      2.000000e+00\n",
      "max      2.000000e+00\n",
      "Name: Classification, dtype: float64\n",
      "--------------------------------------\n"
     ]
    }
   ],
   "source": [
    "#Se analizan las distintas columnas \n",
    "\n",
    "for i in df_PurchasesFinal.columns:\n",
    "    print(i)\n",
    "    print(df_PurchasesFinal[i].describe()) #descripcion basica \n",
    "    print('--------------------------------------')"
   ]
  },
  {
   "cell_type": "markdown",
   "metadata": {},
   "source": [
    "#### Top 10 \n",
    "\n",
    "#### Tiendas con mayor cantidad de pedidos"
   ]
  },
  {
   "cell_type": "code",
   "execution_count": 16,
   "metadata": {},
   "outputs": [
    {
     "name": "stdout",
     "output_type": "stream",
     "text": [
      "Top 10 Tiendas con Mayor Cantidad de Pedidos:\n",
      "   Tienda  Cantidad de Pedidos\n",
      "0      76               121123\n",
      "1      73                96794\n",
      "2      38                93412\n",
      "3      34                92113\n",
      "4      66                82699\n",
      "5      67                69419\n",
      "6      50                65512\n",
      "7      69                63683\n",
      "8      60                58169\n",
      "9      41                53344\n"
     ]
    }
   ],
   "source": [
    "# Contar la cantidad de pedidos por tienda\n",
    "pedidos_por_tienda = df_PurchasesFinal['Store'].value_counts().reset_index()\n",
    "pedidos_por_tienda.columns = ['Tienda', 'Cantidad de Pedidos']\n",
    "\n",
    "# Seleccionar las 10 tiendas con mayor cantidad de pedidos\n",
    "top_tiendas = pedidos_por_tienda.head(10)\n",
    "\n",
    "# Mostrar la tabla de las 10 tiendas con mayor cantidad de pedidos\n",
    "print(\"Top 10 Tiendas con Mayor Cantidad de Pedidos:\")\n",
    "print(top_tiendas)"
   ]
  },
  {
   "cell_type": "code",
   "execution_count": 17,
   "metadata": {},
   "outputs": [
    {
     "name": "stdout",
     "output_type": "stream",
     "text": [
      "Órdenes con múltiples fechas de entrega:\n",
      "      PONumber  ReceivingDate\n",
      "0         8106              3\n",
      "1         8107              2\n",
      "2         8108              3\n",
      "3         8109              3\n",
      "4         8110              3\n",
      "...        ...            ...\n",
      "5538     13657              6\n",
      "5539     13658              6\n",
      "5540     13659              5\n",
      "5541     13660              4\n",
      "5542     13661              6\n",
      "\n",
      "[5000 rows x 2 columns]\n",
      "Detalle de órdenes con múltiples fechas de entrega:\n",
      "                  InventoryId  Store  Brand                   Description  \\\n",
      "1            30_CULCHETH_5255     30   5255  TGI Fridays Ultimte Mudslide   \n",
      "2           34_PITMERDEN_5215     34   5215  TGI Fridays Long Island Iced   \n",
      "3         1_HARDERSFIELD_5255      1   5255  TGI Fridays Ultimte Mudslide   \n",
      "5               5_SUTTON_3348      5   3348           Bombay Sapphire Gin   \n",
      "6         1_HARDERSFIELD_8358      1   8358             Bacardi 151 Proof   \n",
      "...                       ...    ...    ...                           ...   \n",
      "2372469     49_GARIGILL_22298     49  22298       Zorvino Vyds Sangiovese   \n",
      "2372470  1_HARDERSFIELD_19556      1  19556    Zorvino Bacca Z Blackberry   \n",
      "2372471   66_EANVERNESS_22297     66  22297            Zorvino Vyds Pearz   \n",
      "2372472    69_MOUNTMEND_19557     69  19557  Zorvino Fragole Z Strawberry   \n",
      "2372473    55_DRY GULCH_22298     55  22298       Zorvino Vyds Sangiovese   \n",
      "\n",
      "          Size  VendorNumber                   VendorName  PONumber  \\\n",
      "1        1.75L          4466  AMERICAN VINTAGE BEVERAGE        8137   \n",
      "2        1.75L          4466  AMERICAN VINTAGE BEVERAGE        8137   \n",
      "3        1.75L          4466  AMERICAN VINTAGE BEVERAGE        8137   \n",
      "5        1.75L           480  BACARDI USA INC                  8106   \n",
      "6        750mL           480  BACARDI USA INC                  8106   \n",
      "...        ...           ...                          ...       ...   \n",
      "2372469  750mL         90058  ZORVINO VINEYARDS               13593   \n",
      "2372470  750mL         90058  ZORVINO VINEYARDS               13593   \n",
      "2372471  750mL         90058  ZORVINO VINEYARDS               13593   \n",
      "2372472  750mL         90058  ZORVINO VINEYARDS               13593   \n",
      "2372473  750mL         90058  ZORVINO VINEYARDS               13593   \n",
      "\n",
      "                      PODate        ReceivingDate          InvoiceDate  \\\n",
      "1        2015-12-22 00:00:00  2016-01-01 00:00:00  2016-01-07 00:00:00   \n",
      "2        2015-12-22 00:00:00  2016-01-02 00:00:00  2016-01-07 00:00:00   \n",
      "3        2015-12-22 00:00:00  2016-01-01 00:00:00  2016-01-07 00:00:00   \n",
      "5        2015-12-20 00:00:00  2016-01-02 00:00:00  2016-01-12 00:00:00   \n",
      "6        2015-12-20 00:00:00  2016-01-01 00:00:00  2016-01-12 00:00:00   \n",
      "...                      ...                  ...                  ...   \n",
      "2372469  2016-12-19 00:00:00  2016-12-28 00:00:00  2017-01-09 00:00:00   \n",
      "2372470  2016-12-19 00:00:00  2016-12-27 00:00:00  2017-01-09 00:00:00   \n",
      "2372471  2016-12-19 00:00:00  2016-12-26 00:00:00  2017-01-09 00:00:00   \n",
      "2372472  2016-12-19 00:00:00  2016-12-26 00:00:00  2017-01-09 00:00:00   \n",
      "2372473  2016-12-19 00:00:00  2016-12-28 00:00:00  2017-01-09 00:00:00   \n",
      "\n",
      "                     PayDate  PurchasePrice  Quantity  Dollars  Classification  \n",
      "1        2016-02-21 00:00:00           9.35         4    37.40               1  \n",
      "2        2016-02-21 00:00:00           9.41         5    47.05               1  \n",
      "3        2016-02-21 00:00:00           9.35         6    56.10               1  \n",
      "5        2016-02-05 00:00:00          22.38         6   134.28               1  \n",
      "6        2016-02-05 00:00:00          14.49        12   173.88               1  \n",
      "...                      ...            ...       ...      ...             ...  \n",
      "2372469  2017-02-06 00:00:00           8.06        12    96.72               2  \n",
      "2372470  2017-02-06 00:00:00           9.39        12   112.68               2  \n",
      "2372471  2017-02-06 00:00:00           6.75        12    81.00               2  \n",
      "2372472  2017-02-06 00:00:00           9.39        12   112.68               2  \n",
      "2372473  2017-02-06 00:00:00           8.06        12    96.72               2  \n",
      "\n",
      "[2371435 rows x 16 columns]\n"
     ]
    }
   ],
   "source": [
    "# Analizar si las ordenes tienes distintas fechas de entrega\n",
    "# Agrupar por PONumber y contar las fechas de entrega únicas para cada orden\n",
    "po_receiving_dates = df_PurchasesFinal.groupby('PONumber')['ReceivingDate'].nunique().reset_index()\n",
    "\n",
    "# Filtrar órdenes que tienen más de una fecha de entrega\n",
    "multiple_receiving_dates = po_receiving_dates[po_receiving_dates['ReceivingDate'] > 1]\n",
    "\n",
    "# Mostrar los resultados\n",
    "print(\"Órdenes con múltiples fechas de entrega:\")\n",
    "print(multiple_receiving_dates)\n",
    "\n",
    "# Si deseas ver el detalle de estas órdenes\n",
    "orders_with_multiple_receiving_dates_detail = df_PurchasesFinal[df_PurchasesFinal['PONumber'].isin(multiple_receiving_dates['PONumber'])]\n",
    "print(\"Detalle de órdenes con múltiples fechas de entrega:\")\n",
    "print(orders_with_multiple_receiving_dates_detail)"
   ]
  },
  {
   "cell_type": "code",
   "execution_count": 18,
   "metadata": {},
   "outputs": [
    {
     "name": "stdout",
     "output_type": "stream",
     "text": [
      "Top 10 Productos Más Comprados:\n",
      "   Brand                   Description  PurchasePrice  Quantity\n",
      "0   8111             Smirnoff 80 Proof           0.77    337660\n",
      "1   1892                    Yukon Jack           0.72    254824\n",
      "2   5111  Dr McGillicuddy's Mentholmnt           0.72    244654\n",
      "3   3606      Smirnoff Raspberry Vodka           0.74    226085\n",
      "4   6570  Kendall Jackson Chard Vt RSV           6.77    215668\n",
      "5   4261        Capt Morgan Spiced Rum          16.17    201682\n",
      "6   8068              Absolut 80 Proof          18.24    187407\n",
      "7   3405         Tito's Handmade Vodka          23.19    164038\n",
      "8   3837                    Skyy Vodka           0.72    163375\n",
      "9   3102             Smirnoff Traveler          12.94    161386\n"
     ]
    }
   ],
   "source": [
    "# Convertir las fechas a formato datetime\n",
    "df_PurchasesFinal['PODate'] = pd.to_datetime(df_PurchasesFinal['PODate'])\n",
    "df_PurchasesFinal['ReceivingDate'] = pd.to_datetime(df_PurchasesFinal['ReceivingDate'])\n",
    "\n",
    "# Los 10 productos más comprados (Brand, Descripción y Purchase Price)\n",
    "top_productos = df_PurchasesFinal.groupby(['Brand', 'Description', 'PurchasePrice'])['Quantity'].sum().nlargest(10).reset_index()\n",
    "print(\"Top 10 Productos Más Comprados:\")\n",
    "print(top_productos[['Brand', 'Description', 'PurchasePrice', 'Quantity']])"
   ]
  },
  {
   "cell_type": "code",
   "execution_count": 20,
   "metadata": {},
   "outputs": [
    {
     "name": "stderr",
     "output_type": "stream",
     "text": [
      "C:\\Users\\danip\\AppData\\Local\\Temp\\ipykernel_22664\\2298702642.py:5: FutureWarning: \n",
      "\n",
      "Passing `palette` without assigning `hue` is deprecated and will be removed in v0.14.0. Assign the `x` variable to `hue` and set `legend=False` for the same effect.\n",
      "\n",
      "  sns.barplot(x=clasificacion_count.index, y=clasificacion_count.values, palette='viridis')\n"
     ]
    },
    {
     "data": {
      "image/png": "[encoded data removed]",
      "text/plain": [
       "<Figure size 1000x600 with 1 Axes>"
      ]
     },
     "metadata": {},
     "output_type": "display_data"
    }
   ],
   "source": [
    "# Gráfico de la cantidad de productos de clasificación 1 y 2\n",
    "\n",
    "clasificacion_count = df_PurchasesFinal['Classification'].value_counts()\n",
    "plt.figure(figsize=(10, 6))\n",
    "sns.barplot(x=clasificacion_count.index, y=clasificacion_count.values, palette='viridis')\n",
    "plt.title('Cantidad de Productos por Clasificación')\n",
    "plt.xlabel('Clasificación')\n",
    "plt.ylabel('Cantidad de Productos')\n",
    "plt.xticks([0, 1], ['Clasificación 1', 'Clasificación 2'])\n",
    "\n",
    "plt.show()"
   ]
  },
  {
   "cell_type": "code",
   "execution_count": 26,
   "metadata": {},
   "outputs": [
    {
     "data": {
      "image/png": "[encoded data removed]",
      "text/plain": [
       "<Figure size 1200x800 with 1 Axes>"
      ]
     },
     "metadata": {},
     "output_type": "display_data"
    }
   ],
   "source": [
    "# Comparar la diferencia entre la fecha de la orden y la fecha de entrega\n",
    "\n",
    "df_PurchasesFinal['Diferencia_Dias'] = (df_PurchasesFinal['ReceivingDate'] - df_PurchasesFinal['PODate']).dt.days\n",
    "plt.figure(figsize=(12, 8))\n",
    "sns.histplot(df_PurchasesFinal['Diferencia_Dias'], bins=30, kde=True, color='purple')\n",
    "plt.title('Distribución de la Diferencia entre la Fecha de la Orden y la Fecha de Entrega')\n",
    "plt.xlabel('Días de Demora')\n",
    "plt.ylabel('Frecuencia')\n",
    "plt.axvline(df_PurchasesFinal['Diferencia_Dias'].mean(), color='red', linestyle='--', label='Promedio')\n",
    "plt.legend()\n",
    "\n",
    "plt.show()"
   ]
  },
  {
   "cell_type": "code",
   "execution_count": 27,
   "metadata": {},
   "outputs": [
    {
     "name": "stdout",
     "output_type": "stream",
     "text": [
      "Top 10 Productos Más Costosos:\n",
      "   Brand                   Description  PurchasePrice\n",
      "0   3949     Patron En Lalique Tequila        5681.81\n",
      "1   3949     Patron En Lalique Tequila        5681.81\n",
      "2   3949     Patron En Lalique Tequila        5681.81\n",
      "3   2367            Glenmorangie Pride        4264.70\n",
      "4   2367            Glenmorangie Pride        4264.70\n",
      "5    423       Hennessy Richard Cognac        3352.93\n",
      "6    423       Hennessy Richard Cognac        3352.93\n",
      "7    423       Hennessy Richard Cognac        3352.93\n",
      "8   8385  Glenfiddich 1978 Rare Collct        2713.17\n",
      "9   1251  Port Ellen 32 Yr Single Malt        2661.86\n"
     ]
    }
   ],
   "source": [
    "# Top 10 Productos Más Costosos (Brand, Descripción y Purchase Price)\n",
    "top_costosos = df_PurchasesFinal[['Brand', 'Description', 'PurchasePrice']].nlargest(10, 'PurchasePrice').reset_index(drop=True)\n",
    "print(\"Top 10 Productos Más Costosos:\")\n",
    "print(top_costosos)"
   ]
  },
  {
   "cell_type": "code",
   "execution_count": 29,
   "metadata": {},
   "outputs": [
    {
     "name": "stdout",
     "output_type": "stream",
     "text": [
      "\n",
      "Estadísticas para la columna 'PODate':\n",
      "Número total de valores (incluyendo nulos): 2372474\n",
      "Número total de valores: 2372474\n",
      "Valor mínimo: 2015-12-20 00:00:00\n",
      "Valor máximo: 2016-12-23 00:00:00\n",
      "\n",
      "Estadísticas para la columna 'ReceivingDate':\n",
      "Número total de valores (incluyendo nulos): 2372474\n",
      "Número total de valores: 2372474\n",
      "Valor mínimo: 2016-01-01 00:00:00\n",
      "Valor máximo: 2016-12-31 00:00:00\n",
      "\n",
      "Estadísticas para la columna 'InvoiceDate':\n",
      "Número total de valores (incluyendo nulos): 2372474\n"
     ]
    },
    {
     "name": "stderr",
     "output_type": "stream",
     "text": [
      "C:\\Users\\danip\\AppData\\Local\\Temp\\ipykernel_22664\\2631198913.py:9: FutureWarning: The behavior of value_counts with object-dtype is deprecated. In a future version, this will *not* perform dtype inference on the resulting index. To retain the old behavior, use `result.index = result.index.infer_objects()`\n",
      "  column_stats = df[column].describe()\n"
     ]
    },
    {
     "name": "stdout",
     "output_type": "stream",
     "text": [
      "Número total de valores: 2372474\n",
      "Valor mínimo: 2016-01-04 00:00:00\n",
      "Valor máximo: 2017-01-10 00:00:00\n",
      "\n",
      "Estadísticas para la columna 'PayDate':\n",
      "Número total de valores (incluyendo nulos): 2372474\n",
      "Número total de valores: 2372474\n"
     ]
    },
    {
     "name": "stderr",
     "output_type": "stream",
     "text": [
      "C:\\Users\\danip\\AppData\\Local\\Temp\\ipykernel_22664\\2631198913.py:9: FutureWarning: The behavior of value_counts with object-dtype is deprecated. In a future version, this will *not* perform dtype inference on the resulting index. To retain the old behavior, use `result.index = result.index.infer_objects()`\n",
      "  column_stats = df[column].describe()\n"
     ]
    },
    {
     "name": "stdout",
     "output_type": "stream",
     "text": [
      "Valor mínimo: 2016-02-04 00:00:00\n",
      "Valor máximo: 2017-02-19 00:00:00\n"
     ]
    }
   ],
   "source": [
    "# Se analizan las columnas que son fechas\n",
    "# Lista de columnas de interés\n",
    "columns_of_interest = ['PODate', 'ReceivingDate', 'InvoiceDate', 'PayDate']\n",
    "\n",
    "# Función para imprimir las estadísticas de una columna\n",
    "def print_column_stats(df, column):\n",
    "    print(f\"\\nEstadísticas para la columna '{column}':\")\n",
    "    print(f\"Número total de valores (incluyendo nulos): {len(df[column])}\")\n",
    "    column_stats = df[column].describe()\n",
    "    print(f\"Número total de valores: {column_stats['count']}\")\n",
    "    print(f\"Valor mínimo: {df[column].min()}\")\n",
    "    print(f\"Valor máximo: {df[column].max()}\")\n",
    "\n",
    "# Iterar sobre las columnas de interés y mostrar las estadísticas\n",
    "for column in columns_of_interest:\n",
    "    print_column_stats(df_PurchasesFinal, column)"
   ]
  },
  {
   "cell_type": "markdown",
   "metadata": {},
   "source": [
    "##### 1. Columna PODate (Fecha de Orden de Compra): Número total de valores: 2,372,474 Rango de fechas: Fecha mínima: 20 de diciembre de 2015 Fecha máxima: 23 de diciembre de 2016 Interpretación: Esta columna indica cuándo se colocaron las órdenes de compra. El hecho de que las fechas van desde finales de 2015 hasta diciembre de 2016 sugiere que el dataset cubre un período de aproximadamente un año de compras. El análisis de estas fechas podría ayudar a identificar picos en las órdenes de compra y patrones estacionales de adquisición, lo que es útil para la planificación de inventarios y la negociación con proveedores.\n",
    "\n",
    "##### 2. Columna ReceivingDate (Fecha de Recepción de Mercancía): Número total de valores: 2,372,474 Rango de fechas: Fecha mínima: 1 de enero de 2016 Fecha máxima: 31 de diciembre de 2016 Interpretación: Las fechas de recepción de mercancía abarcan todo el año 2016. Esto indica que la mercancía comenzó a recibirse a principios de enero de 2016, lo cual coincide con el hecho de que las órdenes de compra (PODate) ya estaban en curso desde diciembre de 2015. Este rango permite analizar la eficiencia logística, el cumplimiento de plazos por parte de los proveedores y el tiempo transcurrido entre la colocación de la orden y la recepción de la mercancía. Además, ayuda a identificar posibles retrasos en la cadena de suministro.\n",
    "\n",
    "##### 3. Columna InvoiceDate (Fecha de Factura): Número total de valores: 2,372,474 Rango de fechas: Fecha mínima: 4 de enero de 2016 Fecha máxima: 10 de  enero de 2017 Interpretación: Las fechas de facturación comienzan unos días después de las primeras recepciones en enero de 2016 y continúan hasta principios de 2017, con una fecha máxima en enero de 2017. Esto sugiere que las facturas correspondientes a las compras y recepciones a finales de 2016 se emitieron al comienzo del año siguiente. El análisis de esta columna es útil para la gestión financiera y el flujo de caja. Se puede medir el lapso entre la recepción de la mercancía y la emisión de la factura para analizar la eficiencia en los procesos administrativos.\n",
    "\n",
    "##### 4. Columna PayDate (Fecha de Pago): Número total de valores: 2,372,474 Rango de fechas: Fecha mínima: 4 de febrero de 2016 Fecha máxima: 19 de  febrero de 2017 Interpretación: Las fechas de pago comienzan a partir de febrero de 2016, lo que sugiere que generalmente hay un lapso de alrededor de un mes entre la recepción o facturación y el pago. El hecho de que los pagos se extiendan hasta febrero de 2017 indica que las facturas emitidas a finales de 2016 y principios de 2017 fueron pagadas en el año siguiente. Analizar las fechas de pago es crucial para gestionar el flujo de efectivo y mantener una relación saludable con los proveedores. El análisis también puede ayudar a identificar patrones en los tiempos de pago y la eficacia del equipo financiero en el cumplimiento de plazos."
   ]
  },
  {
   "cell_type": "markdown",
   "metadata": {},
   "source": [
    "##### Período cubierto por los datos: El dataset abarca operaciones de compra, recepción, facturación y pago desde diciembre de 2015 hasta febrero de 2017, lo que representa aproximadamente un año y dos meses de transacciones. Esta cobertura temporal permite analizar tendencias de compras y pagos a lo largo del tiempo.\n",
    "##### Secuencia lógica de operaciones:\n",
    "##### Las órdenes de compra (PODate) son colocadas primero, seguidas por la recepción de mercancía (ReceivingDate).Posteriormente, las facturas son emitidas (InvoiceDate), y finalmente los pagos son realizados (PayDate).El hecho de que las fechas progresen de manera coherente con el flujo de trabajo (compra → recepción → facturación → pago) indica un proceso administrativo bien documentado, lo que facilita el análisis de ciclos operativos.\n",
    "##### Eficiencia operativa:\n",
    "##### Las diferencias de tiempo entre estas fechas pueden proporcionar información valiosa sobre la eficiencia operativa, por ejemplo, el tiempo promedio entre la recepción de mercancía y el pago, o entre la colocación de una orden y la recepción de productos. Estos tiempos pueden analizarse para optimizar la cadena de suministro y mejorar la liquidez y gestión de inventarios.\n",
    "##### Potenciales áreas de mejora:\n",
    "##### Si hay grandes variaciones entre el ReceivingDate y el PayDate, esto podría indicar posibles cuellos de botella en el proceso de pago, lo que podría afectar las relaciones con los proveedores o la salud financiera.Si hay muchos casos en los que las facturas (InvoiceDate) se emiten significativamente después de la recepción de los productos, esto podría sugerir ineficiencias en los procesos de facturación."
   ]
  }
 ],
 "metadata": {
  "kernelspec": {
   "display_name": "Python 3",
   "language": "python",
   "name": "python3"
  },
  "language_info": {
   "codemirror_mode": {
    "name": "ipython",
    "version": 3
   },
   "file_extension": ".py",
   "mimetype": "text/x-python",
   "name": "python",
   "nbconvert_exporter": "python",
   "pygments_lexer": "ipython3",
   "version": "3.11.9"
  }
 },
 "nbformat": 4,
 "nbformat_minor": 2
}
