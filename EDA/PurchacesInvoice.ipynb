{
 "cells": [
  {
   "cell_type": "markdown",
   "metadata": {},
   "source": [
    "### EDA CSV InvoicePurchases12312016"
   ]
  },
  {
   "cell_type": "code",
   "execution_count": 1,
   "metadata": {},
   "outputs": [],
   "source": [
    "# Importar Librerias\n",
    "\n",
    "import pandas as pd\n",
    "import numpy as np\n",
    "import matplotlib.pyplot as plt\n",
    "import seaborn as sns\n",
    "import datetime as dt"
   ]
  },
  {
   "cell_type": "code",
   "execution_count": 3,
   "metadata": {},
   "outputs": [
    {
     "data": {
      "text/html": [
       "<div>\n",
       "<style scoped>\n",
       "    .dataframe tbody tr th:only-of-type {\n",
       "        vertical-align: middle;\n",
       "    }\n",
       "\n",
       "    .dataframe tbody tr th {\n",
       "        vertical-align: top;\n",
       "    }\n",
       "\n",
       "    .dataframe thead th {\n",
       "        text-align: right;\n",
       "    }\n",
       "</style>\n",
       "<table border=\"1\" class=\"dataframe\">\n",
       "  <thead>\n",
       "    <tr style=\"text-align: right;\">\n",
       "      <th></th>\n",
       "      <th>VendorNumber</th>\n",
       "      <th>VendorName</th>\n",
       "      <th>InvoiceDate</th>\n",
       "      <th>PONumber</th>\n",
       "      <th>PODate</th>\n",
       "      <th>PayDate</th>\n",
       "      <th>Quantity</th>\n",
       "      <th>Dollars</th>\n",
       "      <th>Freight</th>\n",
       "      <th>Approval</th>\n",
       "    </tr>\n",
       "  </thead>\n",
       "  <tbody>\n",
       "    <tr>\n",
       "      <th>0</th>\n",
       "      <td>105</td>\n",
       "      <td>ALTAMAR BRANDS LLC</td>\n",
       "      <td>2016-01-04</td>\n",
       "      <td>8124</td>\n",
       "      <td>2015-12-21</td>\n",
       "      <td>2016-02-16</td>\n",
       "      <td>6</td>\n",
       "      <td>214.26</td>\n",
       "      <td>3.47</td>\n",
       "      <td>NaN</td>\n",
       "    </tr>\n",
       "    <tr>\n",
       "      <th>1</th>\n",
       "      <td>4466</td>\n",
       "      <td>AMERICAN VINTAGE BEVERAGE</td>\n",
       "      <td>2016-01-07</td>\n",
       "      <td>8137</td>\n",
       "      <td>2015-12-22</td>\n",
       "      <td>2016-02-21</td>\n",
       "      <td>15</td>\n",
       "      <td>140.55</td>\n",
       "      <td>8.57</td>\n",
       "      <td>NaN</td>\n",
       "    </tr>\n",
       "    <tr>\n",
       "      <th>2</th>\n",
       "      <td>388</td>\n",
       "      <td>ATLANTIC IMPORTING COMPANY</td>\n",
       "      <td>2016-01-09</td>\n",
       "      <td>8169</td>\n",
       "      <td>2015-12-24</td>\n",
       "      <td>2016-02-16</td>\n",
       "      <td>5</td>\n",
       "      <td>106.60</td>\n",
       "      <td>4.61</td>\n",
       "      <td>NaN</td>\n",
       "    </tr>\n",
       "    <tr>\n",
       "      <th>3</th>\n",
       "      <td>480</td>\n",
       "      <td>BACARDI USA INC</td>\n",
       "      <td>2016-01-12</td>\n",
       "      <td>8106</td>\n",
       "      <td>2015-12-20</td>\n",
       "      <td>2016-02-05</td>\n",
       "      <td>10100</td>\n",
       "      <td>137483.78</td>\n",
       "      <td>2935.20</td>\n",
       "      <td>NaN</td>\n",
       "    </tr>\n",
       "    <tr>\n",
       "      <th>4</th>\n",
       "      <td>516</td>\n",
       "      <td>BANFI PRODUCTS CORP</td>\n",
       "      <td>2016-01-07</td>\n",
       "      <td>8170</td>\n",
       "      <td>2015-12-24</td>\n",
       "      <td>2016-02-12</td>\n",
       "      <td>1935</td>\n",
       "      <td>15527.25</td>\n",
       "      <td>429.20</td>\n",
       "      <td>NaN</td>\n",
       "    </tr>\n",
       "  </tbody>\n",
       "</table>\n",
       "</div>"
      ],
      "text/plain": [
       "   VendorNumber                   VendorName InvoiceDate  PONumber  \\\n",
       "0           105  ALTAMAR BRANDS LLC           2016-01-04      8124   \n",
       "1          4466  AMERICAN VINTAGE BEVERAGE    2016-01-07      8137   \n",
       "2           388  ATLANTIC IMPORTING COMPANY   2016-01-09      8169   \n",
       "3           480  BACARDI USA INC              2016-01-12      8106   \n",
       "4           516  BANFI PRODUCTS CORP          2016-01-07      8170   \n",
       "\n",
       "       PODate     PayDate  Quantity    Dollars  Freight Approval  \n",
       "0  2015-12-21  2016-02-16         6     214.26     3.47      NaN  \n",
       "1  2015-12-22  2016-02-21        15     140.55     8.57      NaN  \n",
       "2  2015-12-24  2016-02-16         5     106.60     4.61      NaN  \n",
       "3  2015-12-20  2016-02-05     10100  137483.78  2935.20      NaN  \n",
       "4  2015-12-24  2016-02-12      1935   15527.25   429.20      NaN  "
      ]
     },
     "execution_count": 3,
     "metadata": {},
     "output_type": "execute_result"
    }
   ],
   "source": [
    "#Cargar el dataset\n",
    "df_InvoicePurchase = pd.read_csv(\"Dataset/InvoicePurchases12312016.csv\")\n",
    "df_InvoicePurchase.head()"
   ]
  },
  {
   "cell_type": "code",
   "execution_count": 7,
   "metadata": {},
   "outputs": [
    {
     "name": "stdout",
     "output_type": "stream",
     "text": [
      "<class 'pandas.core.frame.DataFrame'>\n",
      "RangeIndex: 5543 entries, 0 to 5542\n",
      "Data columns (total 10 columns):\n",
      " #   Column        Non-Null Count  Dtype  \n",
      "---  ------        --------------  -----  \n",
      " 0   VendorNumber  5543 non-null   int64  \n",
      " 1   VendorName    5543 non-null   object \n",
      " 2   InvoiceDate   5543 non-null   object \n",
      " 3   PONumber      5543 non-null   int64  \n",
      " 4   PODate        5543 non-null   object \n",
      " 5   PayDate       5543 non-null   object \n",
      " 6   Quantity      5543 non-null   int64  \n",
      " 7   Dollars       5543 non-null   float64\n",
      " 8   Freight       5543 non-null   float64\n",
      " 9   Approval      374 non-null    object \n",
      "dtypes: float64(2), int64(3), object(5)\n",
      "memory usage: 433.2+ KB\n"
     ]
    }
   ],
   "source": [
    "# Obtener información general del dataset\n",
    "df_InvoicePurchase.info()"
   ]
  },
  {
   "cell_type": "code",
   "execution_count": 8,
   "metadata": {},
   "outputs": [
    {
     "data": {
      "text/html": [
       "<div>\n",
       "<style scoped>\n",
       "    .dataframe tbody tr th:only-of-type {\n",
       "        vertical-align: middle;\n",
       "    }\n",
       "\n",
       "    .dataframe tbody tr th {\n",
       "        vertical-align: top;\n",
       "    }\n",
       "\n",
       "    .dataframe thead th {\n",
       "        text-align: right;\n",
       "    }\n",
       "</style>\n",
       "<table border=\"1\" class=\"dataframe\">\n",
       "  <thead>\n",
       "    <tr style=\"text-align: right;\">\n",
       "      <th></th>\n",
       "      <th>VendorNumber</th>\n",
       "      <th>PONumber</th>\n",
       "      <th>Quantity</th>\n",
       "      <th>Dollars</th>\n",
       "      <th>Freight</th>\n",
       "    </tr>\n",
       "  </thead>\n",
       "  <tbody>\n",
       "    <tr>\n",
       "      <th>count</th>\n",
       "      <td>5543.00000</td>\n",
       "      <td>5543.000000</td>\n",
       "      <td>5543.000000</td>\n",
       "      <td>5.543000e+03</td>\n",
       "      <td>5543.000000</td>\n",
       "    </tr>\n",
       "    <tr>\n",
       "      <th>mean</th>\n",
       "      <td>20662.75212</td>\n",
       "      <td>10889.419087</td>\n",
       "      <td>6058.880931</td>\n",
       "      <td>5.807338e+04</td>\n",
       "      <td>295.954301</td>\n",
       "    </tr>\n",
       "    <tr>\n",
       "      <th>std</th>\n",
       "      <td>34582.15841</td>\n",
       "      <td>1600.859969</td>\n",
       "      <td>14453.338164</td>\n",
       "      <td>1.402340e+05</td>\n",
       "      <td>713.585093</td>\n",
       "    </tr>\n",
       "    <tr>\n",
       "      <th>min</th>\n",
       "      <td>2.00000</td>\n",
       "      <td>8106.000000</td>\n",
       "      <td>1.000000</td>\n",
       "      <td>4.140000e+00</td>\n",
       "      <td>0.020000</td>\n",
       "    </tr>\n",
       "    <tr>\n",
       "      <th>25%</th>\n",
       "      <td>3089.00000</td>\n",
       "      <td>9503.500000</td>\n",
       "      <td>83.000000</td>\n",
       "      <td>9.678100e+02</td>\n",
       "      <td>5.020000</td>\n",
       "    </tr>\n",
       "    <tr>\n",
       "      <th>50%</th>\n",
       "      <td>7240.00000</td>\n",
       "      <td>10890.000000</td>\n",
       "      <td>423.000000</td>\n",
       "      <td>4.765450e+03</td>\n",
       "      <td>24.730000</td>\n",
       "    </tr>\n",
       "    <tr>\n",
       "      <th>75%</th>\n",
       "      <td>10754.00000</td>\n",
       "      <td>12275.500000</td>\n",
       "      <td>5100.500000</td>\n",
       "      <td>4.458718e+04</td>\n",
       "      <td>229.660000</td>\n",
       "    </tr>\n",
       "    <tr>\n",
       "      <th>max</th>\n",
       "      <td>201359.00000</td>\n",
       "      <td>13661.000000</td>\n",
       "      <td>141660.000000</td>\n",
       "      <td>1.660436e+06</td>\n",
       "      <td>8468.220000</td>\n",
       "    </tr>\n",
       "  </tbody>\n",
       "</table>\n",
       "</div>"
      ],
      "text/plain": [
       "       VendorNumber      PONumber       Quantity       Dollars      Freight\n",
       "count    5543.00000   5543.000000    5543.000000  5.543000e+03  5543.000000\n",
       "mean    20662.75212  10889.419087    6058.880931  5.807338e+04   295.954301\n",
       "std     34582.15841   1600.859969   14453.338164  1.402340e+05   713.585093\n",
       "min         2.00000   8106.000000       1.000000  4.140000e+00     0.020000\n",
       "25%      3089.00000   9503.500000      83.000000  9.678100e+02     5.020000\n",
       "50%      7240.00000  10890.000000     423.000000  4.765450e+03    24.730000\n",
       "75%     10754.00000  12275.500000    5100.500000  4.458718e+04   229.660000\n",
       "max    201359.00000  13661.000000  141660.000000  1.660436e+06  8468.220000"
      ]
     },
     "execution_count": 8,
     "metadata": {},
     "output_type": "execute_result"
    }
   ],
   "source": [
    "# Descripción estadística básica\n",
    "df_InvoicePurchase.describe()"
   ]
  },
  {
   "cell_type": "code",
   "execution_count": 14,
   "metadata": {},
   "outputs": [
    {
     "data": {
      "text/plain": [
       "VendorNumber    0\n",
       "VendorName      0\n",
       "InvoiceDate     0\n",
       "PONumber        0\n",
       "PODate          0\n",
       "PayDate         0\n",
       "Quantity        0\n",
       "Dollars         0\n",
       "Freight         0\n",
       "Approval        0\n",
       "dtype: int64"
      ]
     },
     "execution_count": 14,
     "metadata": {},
     "output_type": "execute_result"
    }
   ],
   "source": [
    "# Verificación de valores nulos\n",
    "df_InvoicePurchase.isnull().sum()"
   ]
  },
  {
   "cell_type": "code",
   "execution_count": 11,
   "metadata": {},
   "outputs": [
    {
     "name": "stdout",
     "output_type": "stream",
     "text": [
      "   VendorNumber                   VendorName InvoiceDate  PONumber  \\\n",
      "0           105  ALTAMAR BRANDS LLC           2016-01-04      8124   \n",
      "1          4466  AMERICAN VINTAGE BEVERAGE    2016-01-07      8137   \n",
      "2           388  ATLANTIC IMPORTING COMPANY   2016-01-09      8169   \n",
      "3           480  BACARDI USA INC              2016-01-12      8106   \n",
      "4           516  BANFI PRODUCTS CORP          2016-01-07      8170   \n",
      "\n",
      "       PODate     PayDate  Quantity    Dollars  Freight   Approval  \n",
      "0  2015-12-21  2016-02-16         6     214.26     3.47  No Aplica  \n",
      "1  2015-12-22  2016-02-21        15     140.55     8.57  No Aplica  \n",
      "2  2015-12-24  2016-02-16         5     106.60     4.61  No Aplica  \n",
      "3  2015-12-20  2016-02-05     10100  137483.78  2935.20  No Aplica  \n",
      "4  2015-12-24  2016-02-12      1935   15527.25   429.20  No Aplica  \n"
     ]
    }
   ],
   "source": [
    "# Reemplazar los valores NaN en la columna 'Approval' con 'No Aplica'\n",
    "df_InvoicePurchase['Approval'] = df_InvoicePurchase['Approval'].fillna('No Aplica')\n",
    "\n",
    "# Mostrar las primeras filas del DataFrame para verificar el cambio\n",
    "print(df_InvoicePurchase.head())"
   ]
  },
  {
   "cell_type": "code",
   "execution_count": 12,
   "metadata": {},
   "outputs": [
    {
     "data": {
      "text/plain": [
       "(5543, 10)"
      ]
     },
     "execution_count": 12,
     "metadata": {},
     "output_type": "execute_result"
    }
   ],
   "source": [
    "#Verificación de la cantidad de filas y columnas\n",
    "np.shape(df_InvoicePurchase)"
   ]
  },
  {
   "cell_type": "code",
   "execution_count": 13,
   "metadata": {},
   "outputs": [
    {
     "name": "stdout",
     "output_type": "stream",
     "text": [
      "Número de filas duplicadas en df_invoicepurchase: 0\n"
     ]
    }
   ],
   "source": [
    "# Verificar si hay filas duplicadas\n",
    "duplicated_rows = df_InvoicePurchase.duplicated()\n",
    "\n",
    "# Contar el número de filas duplicadas\n",
    "num_duplicated_rows = duplicated_rows.sum()\n",
    "\n",
    "# Mostrar el número de filas duplicadas\n",
    "print(f'Número de filas duplicadas en df_invoicepurchase: {num_duplicated_rows}')"
   ]
  },
  {
   "cell_type": "code",
   "execution_count": 15,
   "metadata": {},
   "outputs": [
    {
     "name": "stdout",
     "output_type": "stream",
     "text": [
      "VendorNumber      int64\n",
      "VendorName       object\n",
      "InvoiceDate      object\n",
      "PONumber          int64\n",
      "PODate           object\n",
      "PayDate          object\n",
      "Quantity          int64\n",
      "Dollars         float64\n",
      "Freight         float64\n",
      "Approval         object\n",
      "dtype: object\n"
     ]
    }
   ],
   "source": [
    "# se verifica el tipo de dato de cada columna\n",
    "print(df_InvoicePurchase.dtypes)"
   ]
  },
  {
   "cell_type": "code",
   "execution_count": 16,
   "metadata": {},
   "outputs": [
    {
     "name": "stdout",
     "output_type": "stream",
     "text": [
      "No hay valores negativos en el DataFrame.\n"
     ]
    }
   ],
   "source": [
    "# Verificar si hay valores negativos en las columnas numéricas\n",
    "negatives = df_InvoicePurchase.select_dtypes(include=['number']) < 0\n",
    "\n",
    "# Obtener los nombres de las columnas que tienen valores negativos\n",
    "negative_columns = negatives.any()\n",
    "\n",
    "# Filtrar las columnas que tienen al menos un valor negativo\n",
    "columns_with_negatives = negative_columns[negative_columns].index.tolist()\n",
    "\n",
    "# Mostrar los resultados\n",
    "if columns_with_negatives:\n",
    "    print(f\"Columnas con valores negativos: {columns_with_negatives}\")\n",
    "    for column in columns_with_negatives:\n",
    "        print(f\"\\nValores negativos en la columna '{column}':\")\n",
    "        print(df_InvoicePurchase[df_InvoicePurchase[column] < 0])\n",
    "else:\n",
    "    print(\"No hay valores negativos en el DataFrame.\")"
   ]
  }
 ],
 "metadata": {
  "kernelspec": {
   "display_name": "Python 3",
   "language": "python",
   "name": "python3"
  },
  "language_info": {
   "codemirror_mode": {
    "name": "ipython",
    "version": 3
   },
   "file_extension": ".py",
   "mimetype": "text/x-python",
   "name": "python",
   "nbconvert_exporter": "python",
   "pygments_lexer": "ipython3",
   "version": "3.11.9"
  }
 },
 "nbformat": 4,
 "nbformat_minor": 2
}
