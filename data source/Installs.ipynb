{
 "cells": [
  {
   "cell_type": "code",
   "execution_count": 1,
   "metadata": {},
   "outputs": [
    {
     "name": "stdout",
     "output_type": "stream",
     "text": [
      "Collecting pandas\n",
      "  Downloading pandas-2.2.3-cp311-cp311-win_amd64.whl.metadata (19 kB)\n",
      "Requirement already satisfied: numpy>=1.23.2 in c:\\users\\usuario\\appdata\\local\\packages\\pythonsoftwarefoundation.python.3.11_qbz5n2kfra8p0\\localcache\\local-packages\\python311\\site-packages (from pandas) (2.1.1)\n",
      "Requirement already satisfied: python-dateutil>=2.8.2 in c:\\users\\usuario\\appdata\\local\\packages\\pythonsoftwarefoundation.python.3.11_qbz5n2kfra8p0\\localcache\\local-packages\\python311\\site-packages (from pandas) (2.9.0.post0)\n",
      "Collecting pytz>=2020.1 (from pandas)\n",
      "  Using cached pytz-2024.2-py2.py3-none-any.whl.metadata (22 kB)\n",
      "Collecting tzdata>=2022.7 (from pandas)\n",
      "  Downloading tzdata-2024.2-py2.py3-none-any.whl.metadata (1.4 kB)\n",
      "Requirement already satisfied: six>=1.5 in c:\\users\\usuario\\appdata\\local\\packages\\pythonsoftwarefoundation.python.3.11_qbz5n2kfra8p0\\localcache\\local-packages\\python311\\site-packages (from python-dateutil>=2.8.2->pandas) (1.16.0)\n",
      "Downloading pandas-2.2.3-cp311-cp311-win_amd64.whl (11.6 MB)\n",
      "   ---------------------------------------- 0.0/11.6 MB ? eta -:--:--\n",
      "   ---------------------------------------- 0.1/11.6 MB 3.6 MB/s eta 0:00:04\n",
      "   - -------------------------------------- 0.5/11.6 MB 6.4 MB/s eta 0:00:02\n",
      "   --- ------------------------------------ 1.0/11.6 MB 7.7 MB/s eta 0:00:02\n",
      "   ----- ---------------------------------- 1.5/11.6 MB 9.0 MB/s eta 0:00:02\n",
      "   ------- -------------------------------- 2.3/11.6 MB 11.0 MB/s eta 0:00:01\n",
      "   ---------- ----------------------------- 3.1/11.6 MB 12.4 MB/s eta 0:00:01\n",
      "   -------------- ------------------------- 4.2/11.6 MB 14.1 MB/s eta 0:00:01\n",
      "   ------------------- -------------------- 5.6/11.6 MB 16.2 MB/s eta 0:00:01\n",
      "   ------------------------ --------------- 7.1/11.6 MB 18.1 MB/s eta 0:00:01\n",
      "   ---------------------------- ----------- 8.2/11.6 MB 18.8 MB/s eta 0:00:01\n",
      "   -------------------------------- ------- 9.4/11.6 MB 19.5 MB/s eta 0:00:01\n",
      "   ------------------------------------ --- 10.6/11.6 MB 21.8 MB/s eta 0:00:01\n",
      "   ---------------------------------------  11.6/11.6 MB 24.2 MB/s eta 0:00:01\n",
      "   ---------------------------------------  11.6/11.6 MB 24.2 MB/s eta 0:00:01\n",
      "   ---------------------------------------- 11.6/11.6 MB 21.1 MB/s eta 0:00:00\n",
      "Using cached pytz-2024.2-py2.py3-none-any.whl (508 kB)\n",
      "Downloading tzdata-2024.2-py2.py3-none-any.whl (346 kB)\n",
      "   ---------------------------------------- 0.0/346.6 kB ? eta -:--:--\n",
      "   --------------------------------------- 346.6/346.6 kB 10.8 MB/s eta 0:00:00\n",
      "Installing collected packages: pytz, tzdata, pandas\n",
      "Successfully installed pandas-2.2.3 pytz-2024.2 tzdata-2024.2\n"
     ]
    },
    {
     "name": "stderr",
     "output_type": "stream",
     "text": [
      "\n",
      "[notice] A new release of pip is available: 24.0 -> 24.2\n",
      "[notice] To update, run: C:\\Users\\usuario\\AppData\\Local\\Microsoft\\WindowsApps\\PythonSoftwareFoundation.Python.3.11_qbz5n2kfra8p0\\python.exe -m pip install --upgrade pip\n"
     ]
    }
   ],
   "source": [
    "!pip install pandas"
   ]
  }
 ],
 "metadata": {
  "kernelspec": {
   "display_name": "Python 3",
   "language": "python",
   "name": "python3"
  },
  "language_info": {
   "codemirror_mode": {
    "name": "ipython",
    "version": 3
   },
   "file_extension": ".py",
   "mimetype": "text/x-python",
   "name": "python",
   "nbconvert_exporter": "python",
   "pygments_lexer": "ipython3",
   "version": "3.11.9"
  }
 },
 "nbformat": 4,
 "nbformat_minor": 2
}
