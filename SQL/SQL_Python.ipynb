{
 "cells": [
  {
   "cell_type": "code",
   "execution_count": 5,
   "metadata": {},
   "outputs": [
    {
     "name": "stdout",
     "output_type": "stream",
     "text": [
      "El archivo .sql se ha ejecutado con éxito.\n"
     ]
    }
   ],
   "source": [
    "import pyodbc\n",
    "\n",
    "# Ruta del archivo .sql\n",
    "ruta_sql = r'C:\\Users\\danip\\Desktop\\AMC-Drinks\\Analisis_Inventario_Distribuidora_Licores_AMCDrinks\\SQL\\Avance1_BD_AMCDrinks.sql'\n",
    "\n",
    "# Conexión a SQL Server\n",
    "conexion = pyodbc.connect(\n",
    "    'DRIVER={SQL Server};'\n",
    "    'SERVER=DANIPARS\\SQLEXPRESS;'\n",
    "    'DATABASE=master;'  # Conectarse a la base de datos master\n",
    "    'Trusted_Connection=yes;'\n",
    ")\n",
    "\n",
    "# Crear un cursor\n",
    "cursor = conexion.cursor()\n",
    "\n",
    "# Leer y ejecutar el archivo .sql\n",
    "with open(ruta_sql, 'r') as file:\n",
    "    query = file.read()\n",
    "\n",
    "# Ejecutar las consultas del archivo .sql\n",
    "for statement in query.split(';'):\n",
    "    if statement.strip():  # Asegurarse de que la consulta no esté vacía\n",
    "        cursor.execute(statement)\n",
    "        conexion.commit()  # Confirmar cambios en la base de datos\n",
    "\n",
    "# Cerrar la conexión\n",
    "cursor.close()\n",
    "conexion.close()\n",
    "\n",
    "print(\"El archivo .sql se ha ejecutado con éxito.\")\n"
   ]
  }
 ],
 "metadata": {
  "kernelspec": {
   "display_name": "Python 3",
   "language": "python",
   "name": "python3"
  },
  "language_info": {
   "codemirror_mode": {
    "name": "ipython",
    "version": 3
   },
   "file_extension": ".py",
   "mimetype": "text/x-python",
   "name": "python",
   "nbconvert_exporter": "python",
   "pygments_lexer": "ipython3",
   "version": "3.11.9"
  }
 },
 "nbformat": 4,
 "nbformat_minor": 2
}
